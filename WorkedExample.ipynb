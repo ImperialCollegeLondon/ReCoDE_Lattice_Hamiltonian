{
 "cells": [
  {
   "cell_type": "code",
   "execution_count": 18,
   "id": "f6b85e3f-bd82-4406-8399-4f3a565282dc",
   "metadata": {},
   "outputs": [],
   "source": [
    "import os\n",
    "from datetime import datetime\n",
    "import numpy as np\n",
    "from Lattice import Lattice, Parameters\n",
    "from RunLattice import SweepParameter \n",
    "\n",
    "pwd = os.getcwd()\n",
    "now = datetime.now()\n",
    "save_path = pwd + \"/plots/\" + now.strftime(\"%d%b%Y-1/\")\n",
    "if not os.path.exists(save_path):\n",
    "    os.makedirs(save_path)"
   ]
  },
  {
   "cell_type": "code",
   "execution_count": 19,
   "id": "51a76477-73e3-4cd2-8ef4-3eb293374abb",
   "metadata": {},
   "outputs": [
    {
     "ename": "KeyError",
     "evalue": "'v_ex'",
     "output_type": "error",
     "traceback": [
      "\u001b[1;31m---------------------------------------------------------------------------\u001b[0m",
      "\u001b[1;31mKeyError\u001b[0m                                  Traceback (most recent call last)",
      "Cell \u001b[1;32mIn[19], line 16\u001b[0m\n\u001b[0;32m      3\u001b[0m parameter_array \u001b[38;5;241m=\u001b[39m [\u001b[38;5;241m1e-3\u001b[39m, \u001b[38;5;241m2e-3\u001b[39m, \u001b[38;5;241m3e-3\u001b[39m, \u001b[38;5;241m4e-3\u001b[39m, \u001b[38;5;241m5e-3\u001b[39m]\n\u001b[0;32m      5\u001b[0m parameter_dict \u001b[38;5;241m=\u001b[39m {\u001b[38;5;124m\"\u001b[39m\u001b[38;5;124msize\u001b[39m\u001b[38;5;124m\"\u001b[39m:\u001b[38;5;241m4\u001b[39m,\n\u001b[0;32m      6\u001b[0m                  \u001b[38;5;124m\"\u001b[39m\u001b[38;5;124me_singlet\u001b[39m\u001b[38;5;124m\"\u001b[39m:\u001b[38;5;241m1.4\u001b[39m,\n\u001b[0;32m      7\u001b[0m                  \u001b[38;5;124m\"\u001b[39m\u001b[38;5;124md0\u001b[39m\u001b[38;5;124m\"\u001b[39m:\u001b[38;5;241m5e-3\u001b[39m,\n\u001b[1;32m   (...)\u001b[0m\n\u001b[0;32m     13\u001b[0m                  \u001b[38;5;124m\"\u001b[39m\u001b[38;5;124mF\u001b[39m\u001b[38;5;124m\"\u001b[39m:[\u001b[38;5;241m0\u001b[39m, \u001b[38;5;241m0\u001b[39m, \u001b[38;5;241m0\u001b[39m],\n\u001b[0;32m     14\u001b[0m                  \u001b[38;5;124m\"\u001b[39m\u001b[38;5;124mdisorder\u001b[39m\u001b[38;5;124m\"\u001b[39m:\u001b[38;5;241m50e-3\u001b[39m}\n\u001b[1;32m---> 16\u001b[0m L0_dict \u001b[38;5;241m=\u001b[39m SweepParameter(parameter_to_vary,parameter_array,parameter_dict)\n",
      "File \u001b[1;32m~\\ReCoDE-Lattice-Hamiltonian\\RunLattice.py:49\u001b[0m, in \u001b[0;36mSweepParameter\u001b[1;34m(parameter_to_vary, parameter_array, parameter_dict)\u001b[0m\n\u001b[0;32m     37\u001b[0m lattice \u001b[38;5;241m=\u001b[39m Lattice()\n\u001b[0;32m     38\u001b[0m \u001b[38;5;28;01mif\u001b[39;00m parameter_dict[\u001b[38;5;124m\"\u001b[39m\u001b[38;5;124mconst_recombination\u001b[39m\u001b[38;5;124m\"\u001b[39m]:\n\u001b[0;32m     39\u001b[0m     lattice\u001b[38;5;241m.\u001b[39mgenerate_uniform(\n\u001b[0;32m     40\u001b[0m         size\u001b[38;5;241m=\u001b[39msize,\n\u001b[0;32m     41\u001b[0m         HOMO\u001b[38;5;241m=\u001b[39m\u001b[38;5;241m0\u001b[39m,\n\u001b[0;32m     42\u001b[0m         LUMO\u001b[38;5;241m=\u001b[39m\u001b[38;5;241m1.8\u001b[39m,\n\u001b[0;32m     43\u001b[0m         dist_sites\u001b[38;5;241m=\u001b[39mspacing,\n\u001b[0;32m     44\u001b[0m         min_dist_near_neighbour\u001b[38;5;241m=\u001b[39mnum_sites_coupled \u001b[38;5;241m*\u001b[39m spacing \u001b[38;5;241m+\u001b[39m \u001b[38;5;241m0.01\u001b[39m,\n\u001b[0;32m     45\u001b[0m         t0_homo\u001b[38;5;241m=\u001b[39mparameter_dict[\u001b[38;5;124m\"\u001b[39m\u001b[38;5;124mt0\u001b[39m\u001b[38;5;124m\"\u001b[39m],\n\u001b[0;32m     46\u001b[0m         t0_lumo\u001b[38;5;241m=\u001b[39mparameter_dict[\u001b[38;5;124m\"\u001b[39m\u001b[38;5;124mt0\u001b[39m\u001b[38;5;124m\"\u001b[39m],\n\u001b[0;32m     47\u001b[0m         d0\u001b[38;5;241m=\u001b[39mparameter_dict[\u001b[38;5;124m\"\u001b[39m\u001b[38;5;124md0\u001b[39m\u001b[38;5;124m\"\u001b[39m],\n\u001b[0;32m     48\u001b[0m         r0d\u001b[38;5;241m=\u001b[39mparameter_dict[\u001b[38;5;124m\"\u001b[39m\u001b[38;5;124mr0d\u001b[39m\u001b[38;5;124m\"\u001b[39m] \u001b[38;5;241m*\u001b[39m spacing,\n\u001b[1;32m---> 49\u001b[0m         v_ex\u001b[38;5;241m=\u001b[39mparameter_dict[\u001b[38;5;124m\"\u001b[39m\u001b[38;5;124mv_ex\u001b[39m\u001b[38;5;124m\"\u001b[39m],\n\u001b[0;32m     50\u001b[0m         const_recombination\u001b[38;5;241m=\u001b[39m\u001b[38;5;28;01mFalse\u001b[39;00m,\n\u001b[0;32m     51\u001b[0m     )\n\u001b[0;32m     52\u001b[0m \u001b[38;5;28;01melse\u001b[39;00m:\n\u001b[0;32m     53\u001b[0m     lattice\u001b[38;5;241m.\u001b[39mgenerate_uniform(\n\u001b[0;32m     54\u001b[0m         size\u001b[38;5;241m=\u001b[39msize,\n\u001b[0;32m     55\u001b[0m         HOMO\u001b[38;5;241m=\u001b[39m\u001b[38;5;241m0\u001b[39m,\n\u001b[1;32m   (...)\u001b[0m\n\u001b[0;32m     64\u001b[0m         const_recombination\u001b[38;5;241m=\u001b[39m\u001b[38;5;28;01mFalse\u001b[39;00m,\n\u001b[0;32m     65\u001b[0m     )\n",
      "\u001b[1;31mKeyError\u001b[0m: 'v_ex'"
     ]
    }
   ],
   "source": [
    "save = 0\n",
    "parameter_to_vary = \"t0\"\n",
    "parameter_array = [1e-3, 2e-3, 3e-3, 4e-3, 5e-3]\n",
    "\n",
    "parameter_dict = {\"size\":4,\n",
    "                 \"e_singlet\":1.4,\n",
    "                 \"d0\":5e-3,\n",
    "                 \"r0d\":0.1,\n",
    "                 \"const_recombination\": True,\n",
    "                 \"krec_ex\":1e-9,\n",
    "                 \"j0\":1.5,\n",
    "                 \"r0j\":0.1,\n",
    "                 \"F\":[0, 0, 0],\n",
    "                 \"disorder\":50e-3}\n",
    "\n",
    "L0_dict = SweepParameter(parameter_to_vary,parameter_array,parameter_dict)\n",
    "\n"
   ]
  },
  {
   "cell_type": "code",
   "execution_count": null,
   "id": "c273c779-5a64-471b-963e-c3532b4a669b",
   "metadata": {},
   "outputs": [],
   "source": [
    "labels = [\"1 meV\", \"2 meV\", \"3 meV\", \"4 meV\", \"5 meV\"]"
   ]
  }
 ],
 "metadata": {
  "kernelspec": {
   "display_name": "Python 3 (ipykernel)",
   "language": "python",
   "name": "python3"
  },
  "language_info": {
   "codemirror_mode": {
    "name": "ipython",
    "version": 3
   },
   "file_extension": ".py",
   "mimetype": "text/x-python",
   "name": "python",
   "nbconvert_exporter": "python",
   "pygments_lexer": "ipython3",
   "version": "3.11.7"
  }
 },
 "nbformat": 4,
 "nbformat_minor": 5
}
