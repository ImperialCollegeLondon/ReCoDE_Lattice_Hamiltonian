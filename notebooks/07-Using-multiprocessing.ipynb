{
 "cells": [
  {
   "cell_type": "markdown",
   "id": "8c2fa27c-9169-4095-8b4d-00482d31f31c",
   "metadata": {},
   "source": [
    "In this file, we will look at how to use the ```multiprocessing``` package to run a for loop in parallel and speed up a parmeter sweep. "
   ]
  },
  {
   "cell_type": "markdown",
   "id": "67102f86-539c-4f34-9b13-75ec61babc99",
   "metadata": {},
   "source": [
    "First, run the below to import the modules needed for this workbook. Then, run the following cell to perform a sequential parameter sweep over the electronic coupling (```t0```) parameter. The code will print out how long this takes so that we have a benchmark to compare with the time taken for the parallelised parameter sweep."
   ]
  },
  {
   "cell_type": "code",
   "execution_count": 1,
   "id": "b35d8993-ca14-44f4-b2ec-ee82103903d6",
   "metadata": {},
   "outputs": [],
   "source": [
    "import warnings\n",
    "from datetime import datetime\n",
    "\n",
    "from lattice_hamiltonian.run_lattice import single_parameter, sweep_parameter\n",
    "\n",
    "warnings.filterwarnings(\"ignore\", category=RuntimeWarning)"
   ]
  },
  {
   "cell_type": "code",
   "execution_count": 2,
   "id": "9a560ef0-69c4-4759-bc66-86a6203135b5",
   "metadata": {},
   "outputs": [
    {
     "name": "stdout",
     "output_type": "stream",
     "text": [
      "Time taken: 0:00:27.578930\n"
     ]
    }
   ],
   "source": [
    "# This should be a string - see the RunLattice.py file for all the possible parameters\n",
    "parameter_to_vary = \"t0\"\n",
    "# A list containing the values you want parameter_to_vary to take\n",
    "parameter_array = [2e-3, 4e-3, 6e-3, 8e-3, 10e-3]\n",
    "# A dictionary containing user specified input variables.\n",
    "# Unspecified parameters will be set to default values.\n",
    "parameter_dict = {\"size\": 5}\n",
    "\n",
    "t_start = datetime.now()\n",
    "lattice_dict = sweep_parameter(parameter_to_vary, parameter_array, parameter_dict)\n",
    "t_end = datetime.now()\n",
    "print(f\"Time taken: {t_end - t_start}\")"
   ]
  },
  {
   "cell_type": "markdown",
   "id": "81d7e8e3-daf7-4b8a-9dc8-cad1c8df986c",
   "metadata": {},
   "source": [
    "We will now perform the same parameter sweep in parallel using the ```multiprocessing``` package. First, we import the ```Pool``` class which is used to make a pool of workers to which we can assign the tasks to be run in parallel. The number of workers is set by the ```processes``` argument when you instantiate the class. This argument can be ommitted, in which case the default behaviour is to create as many workers as your computer has CPUs."
   ]
  },
  {
   "cell_type": "code",
   "execution_count": 3,
   "id": "649d2027-b85d-4615-9060-df8fa28dbd83",
   "metadata": {},
   "outputs": [],
   "source": [
    "from multiprocessing.pool import Pool"
   ]
  },
  {
   "cell_type": "markdown",
   "id": "75e4a228-6ed8-4b2f-abf5-c2833584f61b",
   "metadata": {},
   "source": [
    "To run the code in parallel, we will be using the ```pool.map``` function (see the documentation [here](https://docs.python.org/3/library/multiprocessing.html#multiprocessing.pool.Pool)). Essentially, this is just a parallel version of the regular Python ```map``` function (see [here](https://docs.python.org/3/library/functions.html#map)) in which different elements of the iterable are passed to different workers in the pool. This means that we need to make an iterable of the input parameters, which is what we do in the cell below."
   ]
  },
  {
   "cell_type": "code",
   "execution_count": 4,
   "id": "1070e545-f8a4-4be4-8285-e49bd3a93562",
   "metadata": {},
   "outputs": [],
   "source": [
    "dict_list = []\n",
    "for i, val in enumerate(parameter_array):\n",
    "    parameter_dict[parameter_to_vary] = val\n",
    "    dict_list.append(parameter_dict.copy())"
   ]
  },
  {
   "cell_type": "markdown",
   "id": "3ed46c5e-6428-434b-9068-1a6194ad4893",
   "metadata": {},
   "source": [
    "Now we run the parameter sweep in parallel. You can change the number of processes and see how this affects the time taken for the loop to complete. Note that, in this example, it is a bad idea to try and create more processes than your computer has cores as the code is limited by computation time, rather than I/O. In general, it is best to play around a bit with the number of processes you use to find out what is best for your particular situation. "
   ]
  },
  {
   "cell_type": "code",
   "execution_count": 5,
   "id": "8e5a2169-9732-483b-89a1-cb7b673e4301",
   "metadata": {},
   "outputs": [
    {
     "name": "stdout",
     "output_type": "stream",
     "text": [
      "Time taken: 0:00:19.546347\n"
     ]
    }
   ],
   "source": [
    "# The with statement runs the Pool object within a context manager.\n",
    "# This automatically frees up the resources used by the pool once all\n",
    "# processes have finished.\n",
    "# More information about context managers:\n",
    "# https://book.pythontips.com/en/latest/context_managers.html\n",
    "with Pool(processes=3) as pool:\n",
    "    t_start = datetime.now()\n",
    "    # Assign the tasks to the workers in the pool\n",
    "    result = pool.map(single_parameter, dict_list)\n",
    "t_end = datetime.now()\n",
    "print(f\"Time taken: {t_end - t_start}\")"
   ]
  },
  {
   "cell_type": "markdown",
   "id": "5607f511-6ced-495d-87dd-4193babee4aa",
   "metadata": {},
   "source": [
    "For the 5x5 lattice, parallelisation is not a very effective way to speed up the code as the time it takes for a typical desktop computer to create the pool of workers negates the time saved by running the parameter sweep in parallel. However, for a larger lattice, the time taken to solve the Hamiltonian far exceeds the time required to make the pool and so parallelisation significantly reduces the total runtime."
   ]
  }
 ],
 "metadata": {
  "kernelspec": {
   "display_name": "Python 3 (ipykernel)",
   "language": "python",
   "name": "python3"
  },
  "language_info": {
   "codemirror_mode": {
    "name": "ipython",
    "version": 3
   },
   "file_extension": ".py",
   "mimetype": "text/x-python",
   "name": "python",
   "nbconvert_exporter": "python",
   "pygments_lexer": "ipython3",
   "version": "3.12.8"
  }
 },
 "nbformat": 4,
 "nbformat_minor": 5
}
